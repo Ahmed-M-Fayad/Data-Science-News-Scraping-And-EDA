{
 "cells": [
  {
   "cell_type": "markdown",
   "metadata": {},
   "source": [
    "## Scraping"
   ]
  },
  {
   "cell_type": "markdown",
   "metadata": {},
   "source": [
    "---"
   ]
  },
  {
   "cell_type": "markdown",
   "metadata": {},
   "source": [
    "### 1. Importing Selenium"
   ]
  },
  {
   "cell_type": "code",
   "execution_count": 5,
   "metadata": {},
   "outputs": [],
   "source": [
    "from selenium import webdriver\n",
    "from selenium.webdriver.common.by import By\n",
    "import pandas as pd\n",
    "import matplotlib.pyplot as plt"
   ]
  },
  {
   "cell_type": "code",
   "execution_count": 2,
   "metadata": {},
   "outputs": [],
   "source": [
    "driver = webdriver.Chrome()"
   ]
  },
  {
   "cell_type": "markdown",
   "metadata": {},
   "source": [
    "---"
   ]
  },
  {
   "cell_type": "markdown",
   "metadata": {},
   "source": [
    "### 2. Scraping Code"
   ]
  },
  {
   "cell_type": "code",
   "execution_count": 3,
   "metadata": {},
   "outputs": [],
   "source": [
    "categories = ['data-analytics', 'data-engineering',\n",
    "              'data-visualization', 'deep-learning',\n",
    "              'generative-ai', 'machine-learning',\n",
    "              'nlp-text-analytics', 'python']\n",
    "\n",
    "category_news = dict()\n",
    "\n",
    "for category in categories:\n",
    "    driver.get(f'https://opendatascience.com/category/modeling/{category}')\n",
    "    pages = dict()\n",
    "    no_pages = int(driver.find_element(By.XPATH, \"/html/body/div[6]/div[1]/div[2]/ul\").text.split('\\n')[-1])\n",
    "    for page in range(1, no_pages):\n",
    "        driver.get(f'https://opendatascience.com/category/tools-languages/{category}/page/{page}')\n",
    "        posts = []\n",
    "        no_posts = len(driver.find_elements(By.XPATH, \"/html/body/div[6]/div[1]/div[1]/div[2]/div[*]\"))\n",
    "        for i in range(1, no_posts+1):\n",
    "            if len(driver.find_elements(By.XPATH, f\"/html/body/div[6]/div[1]/div[1]/div[2]/div[{i}]/div\")) == 3: \n",
    "                posts.append(driver.find_element(By.XPATH, f\"/html/body/div[6]/div[1]/div[1]/div[2]/div[{i}]/div[2]\").text.split('\\n'))\n",
    "            else : posts.append(driver.find_element(By.XPATH, f\"/html/body/div[6]/div[1]/div[1]/div[2]/div[{i}]/div[1]\").text.split('\\n'))\n",
    "        pages[f'page {page}'] = posts\n",
    "        \n",
    "    category_news[category] = pages"
   ]
  },
  {
   "cell_type": "markdown",
   "metadata": {},
   "source": [
    "---"
   ]
  },
  {
   "cell_type": "markdown",
   "metadata": {},
   "source": [
    "### 3. Storing Data"
   ]
  },
  {
   "cell_type": "code",
   "execution_count": 7,
   "metadata": {},
   "outputs": [
    {
     "data": {
      "text/html": [
       "<div>\n",
       "<style scoped>\n",
       "    .dataframe tbody tr th:only-of-type {\n",
       "        vertical-align: middle;\n",
       "    }\n",
       "\n",
       "    .dataframe tbody tr th {\n",
       "        vertical-align: top;\n",
       "    }\n",
       "\n",
       "    .dataframe thead th {\n",
       "        text-align: right;\n",
       "    }\n",
       "</style>\n",
       "<table border=\"1\" class=\"dataframe\">\n",
       "  <thead>\n",
       "    <tr style=\"text-align: right;\">\n",
       "      <th></th>\n",
       "      <th>Headline</th>\n",
       "      <th>Posted by</th>\n",
       "      <th>Date</th>\n",
       "      <th>Category</th>\n",
       "    </tr>\n",
       "  </thead>\n",
       "  <tbody>\n",
       "    <tr>\n",
       "      <th>0</th>\n",
       "      <td>5 Use Cases for Generative AI in Data Analytics</td>\n",
       "      <td>posted by ODSC Community</td>\n",
       "      <td>June 6, 2024</td>\n",
       "      <td>data-analytics</td>\n",
       "    </tr>\n",
       "    <tr>\n",
       "      <th>1</th>\n",
       "      <td>How to Optimize Supply Chain Efficiency with B...</td>\n",
       "      <td>posted by April Miller</td>\n",
       "      <td>June 6, 2024</td>\n",
       "      <td>data-analytics</td>\n",
       "    </tr>\n",
       "    <tr>\n",
       "      <th>2</th>\n",
       "      <td>How Predictive Analytics Aids Decision-Making ...</td>\n",
       "      <td>posted by Zac Amos</td>\n",
       "      <td>May 10, 2024</td>\n",
       "      <td>data-analytics</td>\n",
       "    </tr>\n",
       "    <tr>\n",
       "      <th>3</th>\n",
       "      <td>Data Analytics in the Age of AI</td>\n",
       "      <td>posted by ODSC Team</td>\n",
       "      <td>April 2, 2024</td>\n",
       "      <td>data-analytics</td>\n",
       "    </tr>\n",
       "    <tr>\n",
       "      <th>4</th>\n",
       "      <td>Navigating the Challenges of LLMs in Big Data ...</td>\n",
       "      <td>posted by ODSC Community</td>\n",
       "      <td>March 27, 2024</td>\n",
       "      <td>data-analytics</td>\n",
       "    </tr>\n",
       "    <tr>\n",
       "      <th>...</th>\n",
       "      <td>...</td>\n",
       "      <td>...</td>\n",
       "      <td>...</td>\n",
       "      <td>...</td>\n",
       "    </tr>\n",
       "    <tr>\n",
       "      <th>1205</th>\n",
       "      <td>Integrating Python and R</td>\n",
       "      <td>posted by Gordon Fleetwood</td>\n",
       "      <td>April 19, 2016</td>\n",
       "      <td>python</td>\n",
       "    </tr>\n",
       "    <tr>\n",
       "      <th>1206</th>\n",
       "      <td>Top 5 Tools and Languages for Data Science</td>\n",
       "      <td>posted by Jason O'Rawe, ODSC Data Science Team</td>\n",
       "      <td>April 18, 2016</td>\n",
       "      <td>python</td>\n",
       "    </tr>\n",
       "    <tr>\n",
       "      <th>1207</th>\n",
       "      <td>Riding on Large Data with Scikit-learn</td>\n",
       "      <td>posted by Alex Perrier</td>\n",
       "      <td>October 28, 2015</td>\n",
       "      <td>python</td>\n",
       "    </tr>\n",
       "    <tr>\n",
       "      <th>1208</th>\n",
       "      <td>Saul Diez-Guerra at ODSC Boston 2015</td>\n",
       "      <td>posted by Open Data Science</td>\n",
       "      <td>August 18, 2015</td>\n",
       "      <td>python</td>\n",
       "    </tr>\n",
       "    <tr>\n",
       "      <th>1209</th>\n",
       "      <td>Using Spark, Python, and Parquet for Loading L...</td>\n",
       "      <td>posted by Open Data Science</td>\n",
       "      <td>June 15, 2015</td>\n",
       "      <td>python</td>\n",
       "    </tr>\n",
       "  </tbody>\n",
       "</table>\n",
       "<p>1210 rows × 4 columns</p>\n",
       "</div>"
      ],
      "text/plain": [
       "                                               Headline  \\\n",
       "0       5 Use Cases for Generative AI in Data Analytics   \n",
       "1     How to Optimize Supply Chain Efficiency with B...   \n",
       "2     How Predictive Analytics Aids Decision-Making ...   \n",
       "3                       Data Analytics in the Age of AI   \n",
       "4     Navigating the Challenges of LLMs in Big Data ...   \n",
       "...                                                 ...   \n",
       "1205                           Integrating Python and R   \n",
       "1206         Top 5 Tools and Languages for Data Science   \n",
       "1207             Riding on Large Data with Scikit-learn   \n",
       "1208               Saul Diez-Guerra at ODSC Boston 2015   \n",
       "1209  Using Spark, Python, and Parquet for Loading L...   \n",
       "\n",
       "                                           Posted by              Date  \\\n",
       "0                           posted by ODSC Community      June 6, 2024   \n",
       "1                             posted by April Miller      June 6, 2024   \n",
       "2                                 posted by Zac Amos      May 10, 2024   \n",
       "3                                posted by ODSC Team     April 2, 2024   \n",
       "4                           posted by ODSC Community    March 27, 2024   \n",
       "...                                              ...               ...   \n",
       "1205                      posted by Gordon Fleetwood    April 19, 2016   \n",
       "1206  posted by Jason O'Rawe, ODSC Data Science Team    April 18, 2016   \n",
       "1207                          posted by Alex Perrier  October 28, 2015   \n",
       "1208                     posted by Open Data Science   August 18, 2015   \n",
       "1209                     posted by Open Data Science     June 15, 2015   \n",
       "\n",
       "            Category  \n",
       "0     data-analytics  \n",
       "1     data-analytics  \n",
       "2     data-analytics  \n",
       "3     data-analytics  \n",
       "4     data-analytics  \n",
       "...              ...  \n",
       "1205          python  \n",
       "1206          python  \n",
       "1207          python  \n",
       "1208          python  \n",
       "1209          python  \n",
       "\n",
       "[1210 rows x 4 columns]"
      ]
     },
     "execution_count": 7,
     "metadata": {},
     "output_type": "execute_result"
    }
   ],
   "source": [
    "data = pd.DataFrame(columns=['Headline', 'Posted by', 'Date', 'Category'])\n",
    "\n",
    "for category, category_data in category_news.items():\n",
    "    \n",
    "    for page, page_posts in category_data.items():\n",
    "        \n",
    "        for post in page_posts:\n",
    "            full_row = [line for line in post]\n",
    "            full_row.append(category)\n",
    "            data.loc[len(data.index)] = full_row\n",
    "\n",
    "data"
   ]
  },
  {
   "cell_type": "markdown",
   "metadata": {},
   "source": [
    "---"
   ]
  },
  {
   "cell_type": "markdown",
   "metadata": {},
   "source": [
    "### 4. Checking Everthing is ok"
   ]
  },
  {
   "cell_type": "code",
   "execution_count": 8,
   "metadata": {},
   "outputs": [
    {
     "data": {
      "text/plain": [
       "Headline     0\n",
       "Posted by    0\n",
       "Date         0\n",
       "Category     0\n",
       "dtype: int64"
      ]
     },
     "execution_count": 8,
     "metadata": {},
     "output_type": "execute_result"
    }
   ],
   "source": [
    "data.isna().sum()"
   ]
  },
  {
   "cell_type": "markdown",
   "metadata": {},
   "source": [
    "---"
   ]
  },
  {
   "cell_type": "markdown",
   "metadata": {},
   "source": [
    "### 5. Finally, Saving"
   ]
  },
  {
   "cell_type": "code",
   "execution_count": 9,
   "metadata": {},
   "outputs": [],
   "source": [
    "data.to_csv(r'Data\\Data.csv')"
   ]
  }
 ],
 "metadata": {
  "kernelspec": {
   "display_name": "Python 3",
   "language": "python",
   "name": "python3"
  },
  "language_info": {
   "codemirror_mode": {
    "name": "ipython",
    "version": 3
   },
   "file_extension": ".py",
   "mimetype": "text/x-python",
   "name": "python",
   "nbconvert_exporter": "python",
   "pygments_lexer": "ipython3",
   "version": "3.12.1"
  }
 },
 "nbformat": 4,
 "nbformat_minor": 2
}
